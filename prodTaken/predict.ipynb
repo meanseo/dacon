{
 "cells": [
  {
   "cell_type": "code",
   "execution_count": 111,
   "metadata": {
    "pycharm": {
     "name": "#%%\n"
    }
   },
   "outputs": [],
   "source": [
    "import pandas as pd\n",
    "from icecream import ic\n",
    "import matplotlib.pyplot as plt\n",
    "from sklearn.preprocessing import LabelEncoder\n",
    "from sklearn.linear_model import LogisticRegression\n",
    "import numpy as np\n",
    "\n",
    "from sklearn.model_selection import cross_val_score\n",
    "from sklearn.ensemble import RandomForestClassifier\n",
    "\n",
    "import seaborn as sns"
   ]
  },
  {
   "cell_type": "code",
   "execution_count": 112,
   "metadata": {
    "pycharm": {
     "name": "#%%\n"
    }
   },
   "outputs": [],
   "source": [
    "train = pd.read_csv('data/train.csv')\n",
    "test = pd.read_csv('data/test.csv')\n",
    "sample_submission = pd.read_csv('data/sample_submission.csv')"
   ]
  },
  {
   "cell_type": "code",
   "execution_count": 113,
   "metadata": {
    "pycharm": {
     "name": "#%%\n"
    }
   },
   "outputs": [],
   "source": [
    "# ic(train.info())"
   ]
  },
  {
   "cell_type": "code",
   "execution_count": 114,
   "metadata": {
    "pycharm": {
     "name": "#%%\n"
    }
   },
   "outputs": [
    {
     "data": {
      "text/html": [
       "<div>\n",
       "<style scoped>\n",
       "    .dataframe tbody tr th:only-of-type {\n",
       "        vertical-align: middle;\n",
       "    }\n",
       "\n",
       "    .dataframe tbody tr th {\n",
       "        vertical-align: top;\n",
       "    }\n",
       "\n",
       "    .dataframe thead th {\n",
       "        text-align: right;\n",
       "    }\n",
       "</style>\n",
       "<table border=\"1\" class=\"dataframe\">\n",
       "  <thead>\n",
       "    <tr style=\"text-align: right;\">\n",
       "      <th></th>\n",
       "      <th>id</th>\n",
       "      <th>Age</th>\n",
       "      <th>TypeofContact</th>\n",
       "      <th>CityTier</th>\n",
       "      <th>DurationOfPitch</th>\n",
       "      <th>Occupation</th>\n",
       "      <th>Gender</th>\n",
       "      <th>NumberOfPersonVisiting</th>\n",
       "      <th>NumberOfFollowups</th>\n",
       "      <th>ProductPitched</th>\n",
       "      <th>PreferredPropertyStar</th>\n",
       "      <th>MaritalStatus</th>\n",
       "      <th>NumberOfTrips</th>\n",
       "      <th>Passport</th>\n",
       "      <th>PitchSatisfactionScore</th>\n",
       "      <th>OwnCar</th>\n",
       "      <th>NumberOfChildrenVisiting</th>\n",
       "      <th>Designation</th>\n",
       "      <th>MonthlyIncome</th>\n",
       "      <th>ProdTaken</th>\n",
       "    </tr>\n",
       "  </thead>\n",
       "  <tbody>\n",
       "    <tr>\n",
       "      <th>0</th>\n",
       "      <td>1</td>\n",
       "      <td>28.0</td>\n",
       "      <td>Company Invited</td>\n",
       "      <td>1</td>\n",
       "      <td>10.0</td>\n",
       "      <td>Small Business</td>\n",
       "      <td>Male</td>\n",
       "      <td>3</td>\n",
       "      <td>4.0</td>\n",
       "      <td>Basic</td>\n",
       "      <td>3.0</td>\n",
       "      <td>Married</td>\n",
       "      <td>3.0</td>\n",
       "      <td>0</td>\n",
       "      <td>1</td>\n",
       "      <td>0</td>\n",
       "      <td>1.0</td>\n",
       "      <td>Executive</td>\n",
       "      <td>20384.0</td>\n",
       "      <td>0</td>\n",
       "    </tr>\n",
       "    <tr>\n",
       "      <th>1</th>\n",
       "      <td>2</td>\n",
       "      <td>34.0</td>\n",
       "      <td>Self Enquiry</td>\n",
       "      <td>3</td>\n",
       "      <td>NaN</td>\n",
       "      <td>Small Business</td>\n",
       "      <td>Female</td>\n",
       "      <td>2</td>\n",
       "      <td>4.0</td>\n",
       "      <td>Deluxe</td>\n",
       "      <td>4.0</td>\n",
       "      <td>Single</td>\n",
       "      <td>1.0</td>\n",
       "      <td>1</td>\n",
       "      <td>5</td>\n",
       "      <td>1</td>\n",
       "      <td>0.0</td>\n",
       "      <td>Manager</td>\n",
       "      <td>19599.0</td>\n",
       "      <td>1</td>\n",
       "    </tr>\n",
       "    <tr>\n",
       "      <th>2</th>\n",
       "      <td>3</td>\n",
       "      <td>45.0</td>\n",
       "      <td>Company Invited</td>\n",
       "      <td>1</td>\n",
       "      <td>NaN</td>\n",
       "      <td>Salaried</td>\n",
       "      <td>Male</td>\n",
       "      <td>2</td>\n",
       "      <td>3.0</td>\n",
       "      <td>Deluxe</td>\n",
       "      <td>4.0</td>\n",
       "      <td>Married</td>\n",
       "      <td>2.0</td>\n",
       "      <td>0</td>\n",
       "      <td>4</td>\n",
       "      <td>1</td>\n",
       "      <td>0.0</td>\n",
       "      <td>Manager</td>\n",
       "      <td>NaN</td>\n",
       "      <td>0</td>\n",
       "    </tr>\n",
       "    <tr>\n",
       "      <th>3</th>\n",
       "      <td>4</td>\n",
       "      <td>29.0</td>\n",
       "      <td>Company Invited</td>\n",
       "      <td>1</td>\n",
       "      <td>7.0</td>\n",
       "      <td>Small Business</td>\n",
       "      <td>Male</td>\n",
       "      <td>3</td>\n",
       "      <td>5.0</td>\n",
       "      <td>Basic</td>\n",
       "      <td>4.0</td>\n",
       "      <td>Married</td>\n",
       "      <td>3.0</td>\n",
       "      <td>0</td>\n",
       "      <td>4</td>\n",
       "      <td>0</td>\n",
       "      <td>1.0</td>\n",
       "      <td>Executive</td>\n",
       "      <td>21274.0</td>\n",
       "      <td>1</td>\n",
       "    </tr>\n",
       "    <tr>\n",
       "      <th>4</th>\n",
       "      <td>5</td>\n",
       "      <td>42.0</td>\n",
       "      <td>Self Enquiry</td>\n",
       "      <td>3</td>\n",
       "      <td>6.0</td>\n",
       "      <td>Salaried</td>\n",
       "      <td>Male</td>\n",
       "      <td>2</td>\n",
       "      <td>3.0</td>\n",
       "      <td>Deluxe</td>\n",
       "      <td>3.0</td>\n",
       "      <td>Divorced</td>\n",
       "      <td>2.0</td>\n",
       "      <td>0</td>\n",
       "      <td>3</td>\n",
       "      <td>1</td>\n",
       "      <td>0.0</td>\n",
       "      <td>Manager</td>\n",
       "      <td>19907.0</td>\n",
       "      <td>0</td>\n",
       "    </tr>\n",
       "    <tr>\n",
       "      <th>...</th>\n",
       "      <td>...</td>\n",
       "      <td>...</td>\n",
       "      <td>...</td>\n",
       "      <td>...</td>\n",
       "      <td>...</td>\n",
       "      <td>...</td>\n",
       "      <td>...</td>\n",
       "      <td>...</td>\n",
       "      <td>...</td>\n",
       "      <td>...</td>\n",
       "      <td>...</td>\n",
       "      <td>...</td>\n",
       "      <td>...</td>\n",
       "      <td>...</td>\n",
       "      <td>...</td>\n",
       "      <td>...</td>\n",
       "      <td>...</td>\n",
       "      <td>...</td>\n",
       "      <td>...</td>\n",
       "      <td>...</td>\n",
       "    </tr>\n",
       "    <tr>\n",
       "      <th>1950</th>\n",
       "      <td>1951</td>\n",
       "      <td>28.0</td>\n",
       "      <td>Self Enquiry</td>\n",
       "      <td>1</td>\n",
       "      <td>10.0</td>\n",
       "      <td>Small Business</td>\n",
       "      <td>Male</td>\n",
       "      <td>3</td>\n",
       "      <td>5.0</td>\n",
       "      <td>Basic</td>\n",
       "      <td>3.0</td>\n",
       "      <td>Single</td>\n",
       "      <td>2.0</td>\n",
       "      <td>0</td>\n",
       "      <td>1</td>\n",
       "      <td>1</td>\n",
       "      <td>2.0</td>\n",
       "      <td>Executive</td>\n",
       "      <td>20723.0</td>\n",
       "      <td>0</td>\n",
       "    </tr>\n",
       "    <tr>\n",
       "      <th>1951</th>\n",
       "      <td>1952</td>\n",
       "      <td>41.0</td>\n",
       "      <td>Self Enquiry</td>\n",
       "      <td>3</td>\n",
       "      <td>8.0</td>\n",
       "      <td>Salaried</td>\n",
       "      <td>Female</td>\n",
       "      <td>3</td>\n",
       "      <td>3.0</td>\n",
       "      <td>Super Deluxe</td>\n",
       "      <td>5.0</td>\n",
       "      <td>Divorced</td>\n",
       "      <td>1.0</td>\n",
       "      <td>0</td>\n",
       "      <td>5</td>\n",
       "      <td>1</td>\n",
       "      <td>1.0</td>\n",
       "      <td>AVP</td>\n",
       "      <td>31595.0</td>\n",
       "      <td>0</td>\n",
       "    </tr>\n",
       "    <tr>\n",
       "      <th>1952</th>\n",
       "      <td>1953</td>\n",
       "      <td>38.0</td>\n",
       "      <td>Company Invited</td>\n",
       "      <td>3</td>\n",
       "      <td>28.0</td>\n",
       "      <td>Small Business</td>\n",
       "      <td>Female</td>\n",
       "      <td>3</td>\n",
       "      <td>4.0</td>\n",
       "      <td>Basic</td>\n",
       "      <td>3.0</td>\n",
       "      <td>Divorced</td>\n",
       "      <td>7.0</td>\n",
       "      <td>0</td>\n",
       "      <td>2</td>\n",
       "      <td>1</td>\n",
       "      <td>2.0</td>\n",
       "      <td>Executive</td>\n",
       "      <td>21651.0</td>\n",
       "      <td>0</td>\n",
       "    </tr>\n",
       "    <tr>\n",
       "      <th>1953</th>\n",
       "      <td>1954</td>\n",
       "      <td>28.0</td>\n",
       "      <td>Self Enquiry</td>\n",
       "      <td>3</td>\n",
       "      <td>30.0</td>\n",
       "      <td>Small Business</td>\n",
       "      <td>Female</td>\n",
       "      <td>3</td>\n",
       "      <td>5.0</td>\n",
       "      <td>Deluxe</td>\n",
       "      <td>3.0</td>\n",
       "      <td>Married</td>\n",
       "      <td>3.0</td>\n",
       "      <td>0</td>\n",
       "      <td>1</td>\n",
       "      <td>1</td>\n",
       "      <td>2.0</td>\n",
       "      <td>Manager</td>\n",
       "      <td>22218.0</td>\n",
       "      <td>0</td>\n",
       "    </tr>\n",
       "    <tr>\n",
       "      <th>1954</th>\n",
       "      <td>1955</td>\n",
       "      <td>22.0</td>\n",
       "      <td>Company Invited</td>\n",
       "      <td>1</td>\n",
       "      <td>9.0</td>\n",
       "      <td>Salaried</td>\n",
       "      <td>Male</td>\n",
       "      <td>2</td>\n",
       "      <td>4.0</td>\n",
       "      <td>Basic</td>\n",
       "      <td>3.0</td>\n",
       "      <td>Divorced</td>\n",
       "      <td>1.0</td>\n",
       "      <td>1</td>\n",
       "      <td>3</td>\n",
       "      <td>0</td>\n",
       "      <td>0.0</td>\n",
       "      <td>Executive</td>\n",
       "      <td>17853.0</td>\n",
       "      <td>1</td>\n",
       "    </tr>\n",
       "  </tbody>\n",
       "</table>\n",
       "<p>1955 rows × 20 columns</p>\n",
       "</div>"
      ],
      "text/plain": [
       "        id   Age    TypeofContact  CityTier  DurationOfPitch      Occupation  \\\n",
       "0        1  28.0  Company Invited         1             10.0  Small Business   \n",
       "1        2  34.0     Self Enquiry         3              NaN  Small Business   \n",
       "2        3  45.0  Company Invited         1              NaN        Salaried   \n",
       "3        4  29.0  Company Invited         1              7.0  Small Business   \n",
       "4        5  42.0     Self Enquiry         3              6.0        Salaried   \n",
       "...    ...   ...              ...       ...              ...             ...   \n",
       "1950  1951  28.0     Self Enquiry         1             10.0  Small Business   \n",
       "1951  1952  41.0     Self Enquiry         3              8.0        Salaried   \n",
       "1952  1953  38.0  Company Invited         3             28.0  Small Business   \n",
       "1953  1954  28.0     Self Enquiry         3             30.0  Small Business   \n",
       "1954  1955  22.0  Company Invited         1              9.0        Salaried   \n",
       "\n",
       "      Gender  NumberOfPersonVisiting  NumberOfFollowups ProductPitched  \\\n",
       "0       Male                       3                4.0          Basic   \n",
       "1     Female                       2                4.0         Deluxe   \n",
       "2       Male                       2                3.0         Deluxe   \n",
       "3       Male                       3                5.0          Basic   \n",
       "4       Male                       2                3.0         Deluxe   \n",
       "...      ...                     ...                ...            ...   \n",
       "1950    Male                       3                5.0          Basic   \n",
       "1951  Female                       3                3.0   Super Deluxe   \n",
       "1952  Female                       3                4.0          Basic   \n",
       "1953  Female                       3                5.0         Deluxe   \n",
       "1954    Male                       2                4.0          Basic   \n",
       "\n",
       "      PreferredPropertyStar MaritalStatus  NumberOfTrips  Passport  \\\n",
       "0                       3.0       Married            3.0         0   \n",
       "1                       4.0        Single            1.0         1   \n",
       "2                       4.0       Married            2.0         0   \n",
       "3                       4.0       Married            3.0         0   \n",
       "4                       3.0      Divorced            2.0         0   \n",
       "...                     ...           ...            ...       ...   \n",
       "1950                    3.0        Single            2.0         0   \n",
       "1951                    5.0      Divorced            1.0         0   \n",
       "1952                    3.0      Divorced            7.0         0   \n",
       "1953                    3.0       Married            3.0         0   \n",
       "1954                    3.0      Divorced            1.0         1   \n",
       "\n",
       "      PitchSatisfactionScore  OwnCar  NumberOfChildrenVisiting Designation  \\\n",
       "0                          1       0                       1.0   Executive   \n",
       "1                          5       1                       0.0     Manager   \n",
       "2                          4       1                       0.0     Manager   \n",
       "3                          4       0                       1.0   Executive   \n",
       "4                          3       1                       0.0     Manager   \n",
       "...                      ...     ...                       ...         ...   \n",
       "1950                       1       1                       2.0   Executive   \n",
       "1951                       5       1                       1.0         AVP   \n",
       "1952                       2       1                       2.0   Executive   \n",
       "1953                       1       1                       2.0     Manager   \n",
       "1954                       3       0                       0.0   Executive   \n",
       "\n",
       "      MonthlyIncome  ProdTaken  \n",
       "0           20384.0          0  \n",
       "1           19599.0          1  \n",
       "2               NaN          0  \n",
       "3           21274.0          1  \n",
       "4           19907.0          0  \n",
       "...             ...        ...  \n",
       "1950        20723.0          0  \n",
       "1951        31595.0          0  \n",
       "1952        21651.0          0  \n",
       "1953        22218.0          0  \n",
       "1954        17853.0          1  \n",
       "\n",
       "[1955 rows x 20 columns]"
      ]
     },
     "execution_count": 114,
     "metadata": {},
     "output_type": "execute_result"
    }
   ],
   "source": [
    "ob_col = ['TypeofContact', 'Occupation',\n",
    "            'Gender', 'ProductPitched', 'MaritalStatus', 'Designation']\n",
    "train.replace('Fe Male', 'Female')\n",
    "# ic(train['Gender'])"
   ]
  },
  {
   "cell_type": "code",
   "execution_count": 115,
   "metadata": {
    "pycharm": {
     "name": "#%%\n"
    }
   },
   "outputs": [
    {
     "data": {
      "image/png": "[encoded data removed]",
      "text/plain": [
       "<Figure size 432x288 with 2 Axes>"
      ]
     },
     "metadata": {
      "needs_background": "light"
     },
     "output_type": "display_data"
    }
   ],
   "source": [
    "corr_df = train.corr()\n",
    "corr_df = corr_df.apply(lambda x: round(x ,2))\n",
    "pd.set_option('display.max_columns',None)\n",
    "# ic(corr_df)\n",
    "ax = sns.heatmap(corr_df, annot=True, annot_kws=dict(color='g'), cmap='Greys')\n",
    "# plt.savefig('corr.png')"
   ]
  },
  {
   "cell_type": "code",
   "execution_count": 116,
   "metadata": {
    "pycharm": {
     "name": "#%%\n"
    }
   },
   "outputs": [],
   "source": [
    "drop_col = ['NumberOfPersonVisiting','NumberOfChildrenVisiting', 'id', 'NumberOfTrips','NumberOfFollowups', 'OwnCar', 'MonthlyIncome'] "
   ]
  },
  {
   "cell_type": "code",
   "execution_count": 117,
   "metadata": {
    "pycharm": {
     "name": "#%%\n"
    }
   },
   "outputs": [],
   "source": [
    "train = train.drop(columns=drop_col)\n",
    "test = test.drop(columns=drop_col)"
   ]
  },
  {
   "cell_type": "code",
   "execution_count": 118,
   "metadata": {},
   "outputs": [
    {
     "name": "stderr",
     "output_type": "stream",
     "text": [
      "ic| train:        Age    TypeofContact  CityTier  DurationOfPitch      Occupation  \\\n",
      "           0     28.0  Company Invited         1             10.0  Small Business   \n",
      "           1     34.0     Self Enquiry         3              NaN  Small Business   \n",
      "           2     45.0  Company Invited         1              NaN        Salaried   \n",
      "           3     29.0  Company Invited         1              7.0  Small Business   \n",
      "           4     42.0     Self Enquiry         3              6.0        Salaried   \n",
      "           ...    ...              ...       ...              ...             ...   \n",
      "           1950  28.0     Self Enquiry         1             10.0  Small Business   \n",
      "           1951  41.0     Self Enquiry         3              8.0        Salaried   \n",
      "           1952  38.0  Company Invited         3             28.0  Small Business   \n",
      "           1953  28.0     Self Enquiry         3             30.0  Small Business   \n",
      "           1954  22.0  Company Invited         1              9.0        Salaried   \n",
      "           \n",
      "                 Gender ProductPitched  PreferredPropertyStar MaritalStatus  Passport  \\\n",
      "           0       Male          Basic                    3.0       Married         0   \n",
      "           1     Female         Deluxe                    4.0        Single         1   \n",
      "           2       Male         Deluxe                    4.0       Married         0   \n",
      "           3       Male          Basic                    4.0       Married         0   \n",
      "           4       Male         Deluxe                    3.0      Divorced         0   \n",
      "           ...      ...            ...                    ...           ...       ...   \n",
      "           1950    Male          Basic                    3.0        Single         0   \n",
      "           1951  Female   Super Deluxe                    5.0      Divorced         0   \n",
      "           1952  Female          Basic                    3.0      Divorced         0   \n",
      "           1953  Female         Deluxe                    3.0       Married         0   \n",
      "           1954    Male          Basic                    3.0      Divorced         1   \n",
      "           \n",
      "                 PitchSatisfactionScore Designation  ProdTaken  \n",
      "           0                          1   Executive          0  \n",
      "           1                          5     Manager          1  \n",
      "           2                          4     Manager          0  \n",
      "           3                          4   Executive          1  \n",
      "           4                          3     Manager          0  \n",
      "           ...                      ...         ...        ...  \n",
      "           1950                       1   Executive          0  \n",
      "           1951                       5         AVP          0  \n",
      "           1952                       2   Executive          0  \n",
      "           1953                       1     Manager          0  \n",
      "           1954                       3   Executive          1  \n",
      "           \n",
      "           [1955 rows x 13 columns]\n"
     ]
    },
    {
     "data": {
      "text/html": [
       "<div>\n",
       "<style scoped>\n",
       "    .dataframe tbody tr th:only-of-type {\n",
       "        vertical-align: middle;\n",
       "    }\n",
       "\n",
       "    .dataframe tbody tr th {\n",
       "        vertical-align: top;\n",
       "    }\n",
       "\n",
       "    .dataframe thead th {\n",
       "        text-align: right;\n",
       "    }\n",
       "</style>\n",
       "<table border=\"1\" class=\"dataframe\">\n",
       "  <thead>\n",
       "    <tr style=\"text-align: right;\">\n",
       "      <th></th>\n",
       "      <th>Age</th>\n",
       "      <th>TypeofContact</th>\n",
       "      <th>CityTier</th>\n",
       "      <th>DurationOfPitch</th>\n",
       "      <th>Occupation</th>\n",
       "      <th>Gender</th>\n",
       "      <th>ProductPitched</th>\n",
       "      <th>PreferredPropertyStar</th>\n",
       "      <th>MaritalStatus</th>\n",
       "      <th>Passport</th>\n",
       "      <th>PitchSatisfactionScore</th>\n",
       "      <th>Designation</th>\n",
       "      <th>ProdTaken</th>\n",
       "    </tr>\n",
       "  </thead>\n",
       "  <tbody>\n",
       "    <tr>\n",
       "      <th>0</th>\n",
       "      <td>28.0</td>\n",
       "      <td>Company Invited</td>\n",
       "      <td>1</td>\n",
       "      <td>10.0</td>\n",
       "      <td>Small Business</td>\n",
       "      <td>Male</td>\n",
       "      <td>Basic</td>\n",
       "      <td>3.0</td>\n",
       "      <td>Married</td>\n",
       "      <td>0</td>\n",
       "      <td>1</td>\n",
       "      <td>Executive</td>\n",
       "      <td>0</td>\n",
       "    </tr>\n",
       "    <tr>\n",
       "      <th>1</th>\n",
       "      <td>34.0</td>\n",
       "      <td>Self Enquiry</td>\n",
       "      <td>3</td>\n",
       "      <td>NaN</td>\n",
       "      <td>Small Business</td>\n",
       "      <td>Female</td>\n",
       "      <td>Deluxe</td>\n",
       "      <td>4.0</td>\n",
       "      <td>Single</td>\n",
       "      <td>1</td>\n",
       "      <td>5</td>\n",
       "      <td>Manager</td>\n",
       "      <td>1</td>\n",
       "    </tr>\n",
       "    <tr>\n",
       "      <th>2</th>\n",
       "      <td>45.0</td>\n",
       "      <td>Company Invited</td>\n",
       "      <td>1</td>\n",
       "      <td>NaN</td>\n",
       "      <td>Salaried</td>\n",
       "      <td>Male</td>\n",
       "      <td>Deluxe</td>\n",
       "      <td>4.0</td>\n",
       "      <td>Married</td>\n",
       "      <td>0</td>\n",
       "      <td>4</td>\n",
       "      <td>Manager</td>\n",
       "      <td>0</td>\n",
       "    </tr>\n",
       "    <tr>\n",
       "      <th>3</th>\n",
       "      <td>29.0</td>\n",
       "      <td>Company Invited</td>\n",
       "      <td>1</td>\n",
       "      <td>7.0</td>\n",
       "      <td>Small Business</td>\n",
       "      <td>Male</td>\n",
       "      <td>Basic</td>\n",
       "      <td>4.0</td>\n",
       "      <td>Married</td>\n",
       "      <td>0</td>\n",
       "      <td>4</td>\n",
       "      <td>Executive</td>\n",
       "      <td>1</td>\n",
       "    </tr>\n",
       "    <tr>\n",
       "      <th>4</th>\n",
       "      <td>42.0</td>\n",
       "      <td>Self Enquiry</td>\n",
       "      <td>3</td>\n",
       "      <td>6.0</td>\n",
       "      <td>Salaried</td>\n",
       "      <td>Male</td>\n",
       "      <td>Deluxe</td>\n",
       "      <td>3.0</td>\n",
       "      <td>Divorced</td>\n",
       "      <td>0</td>\n",
       "      <td>3</td>\n",
       "      <td>Manager</td>\n",
       "      <td>0</td>\n",
       "    </tr>\n",
       "    <tr>\n",
       "      <th>...</th>\n",
       "      <td>...</td>\n",
       "      <td>...</td>\n",
       "      <td>...</td>\n",
       "      <td>...</td>\n",
       "      <td>...</td>\n",
       "      <td>...</td>\n",
       "      <td>...</td>\n",
       "      <td>...</td>\n",
       "      <td>...</td>\n",
       "      <td>...</td>\n",
       "      <td>...</td>\n",
       "      <td>...</td>\n",
       "      <td>...</td>\n",
       "    </tr>\n",
       "    <tr>\n",
       "      <th>1950</th>\n",
       "      <td>28.0</td>\n",
       "      <td>Self Enquiry</td>\n",
       "      <td>1</td>\n",
       "      <td>10.0</td>\n",
       "      <td>Small Business</td>\n",
       "      <td>Male</td>\n",
       "      <td>Basic</td>\n",
       "      <td>3.0</td>\n",
       "      <td>Single</td>\n",
       "      <td>0</td>\n",
       "      <td>1</td>\n",
       "      <td>Executive</td>\n",
       "      <td>0</td>\n",
       "    </tr>\n",
       "    <tr>\n",
       "      <th>1951</th>\n",
       "      <td>41.0</td>\n",
       "      <td>Self Enquiry</td>\n",
       "      <td>3</td>\n",
       "      <td>8.0</td>\n",
       "      <td>Salaried</td>\n",
       "      <td>Female</td>\n",
       "      <td>Super Deluxe</td>\n",
       "      <td>5.0</td>\n",
       "      <td>Divorced</td>\n",
       "      <td>0</td>\n",
       "      <td>5</td>\n",
       "      <td>AVP</td>\n",
       "      <td>0</td>\n",
       "    </tr>\n",
       "    <tr>\n",
       "      <th>1952</th>\n",
       "      <td>38.0</td>\n",
       "      <td>Company Invited</td>\n",
       "      <td>3</td>\n",
       "      <td>28.0</td>\n",
       "      <td>Small Business</td>\n",
       "      <td>Female</td>\n",
       "      <td>Basic</td>\n",
       "      <td>3.0</td>\n",
       "      <td>Divorced</td>\n",
       "      <td>0</td>\n",
       "      <td>2</td>\n",
       "      <td>Executive</td>\n",
       "      <td>0</td>\n",
       "    </tr>\n",
       "    <tr>\n",
       "      <th>1953</th>\n",
       "      <td>28.0</td>\n",
       "      <td>Self Enquiry</td>\n",
       "      <td>3</td>\n",
       "      <td>30.0</td>\n",
       "      <td>Small Business</td>\n",
       "      <td>Female</td>\n",
       "      <td>Deluxe</td>\n",
       "      <td>3.0</td>\n",
       "      <td>Married</td>\n",
       "      <td>0</td>\n",
       "      <td>1</td>\n",
       "      <td>Manager</td>\n",
       "      <td>0</td>\n",
       "    </tr>\n",
       "    <tr>\n",
       "      <th>1954</th>\n",
       "      <td>22.0</td>\n",
       "      <td>Company Invited</td>\n",
       "      <td>1</td>\n",
       "      <td>9.0</td>\n",
       "      <td>Salaried</td>\n",
       "      <td>Male</td>\n",
       "      <td>Basic</td>\n",
       "      <td>3.0</td>\n",
       "      <td>Divorced</td>\n",
       "      <td>1</td>\n",
       "      <td>3</td>\n",
       "      <td>Executive</td>\n",
       "      <td>1</td>\n",
       "    </tr>\n",
       "  </tbody>\n",
       "</table>\n",
       "<p>1955 rows × 13 columns</p>\n",
       "</div>"
      ],
      "text/plain": [
       "       Age    TypeofContact  CityTier  DurationOfPitch      Occupation  \\\n",
       "0     28.0  Company Invited         1             10.0  Small Business   \n",
       "1     34.0     Self Enquiry         3              NaN  Small Business   \n",
       "2     45.0  Company Invited         1              NaN        Salaried   \n",
       "3     29.0  Company Invited         1              7.0  Small Business   \n",
       "4     42.0     Self Enquiry         3              6.0        Salaried   \n",
       "...    ...              ...       ...              ...             ...   \n",
       "1950  28.0     Self Enquiry         1             10.0  Small Business   \n",
       "1951  41.0     Self Enquiry         3              8.0        Salaried   \n",
       "1952  38.0  Company Invited         3             28.0  Small Business   \n",
       "1953  28.0     Self Enquiry         3             30.0  Small Business   \n",
       "1954  22.0  Company Invited         1              9.0        Salaried   \n",
       "\n",
       "      Gender ProductPitched  PreferredPropertyStar MaritalStatus  Passport  \\\n",
       "0       Male          Basic                    3.0       Married         0   \n",
       "1     Female         Deluxe                    4.0        Single         1   \n",
       "2       Male         Deluxe                    4.0       Married         0   \n",
       "3       Male          Basic                    4.0       Married         0   \n",
       "4       Male         Deluxe                    3.0      Divorced         0   \n",
       "...      ...            ...                    ...           ...       ...   \n",
       "1950    Male          Basic                    3.0        Single         0   \n",
       "1951  Female   Super Deluxe                    5.0      Divorced         0   \n",
       "1952  Female          Basic                    3.0      Divorced         0   \n",
       "1953  Female         Deluxe                    3.0       Married         0   \n",
       "1954    Male          Basic                    3.0      Divorced         1   \n",
       "\n",
       "      PitchSatisfactionScore Designation  ProdTaken  \n",
       "0                          1   Executive          0  \n",
       "1                          5     Manager          1  \n",
       "2                          4     Manager          0  \n",
       "3                          4   Executive          1  \n",
       "4                          3     Manager          0  \n",
       "...                      ...         ...        ...  \n",
       "1950                       1   Executive          0  \n",
       "1951                       5         AVP          0  \n",
       "1952                       2   Executive          0  \n",
       "1953                       1     Manager          0  \n",
       "1954                       3   Executive          1  \n",
       "\n",
       "[1955 rows x 13 columns]"
      ]
     },
     "execution_count": 118,
     "metadata": {},
     "output_type": "execute_result"
    }
   ],
   "source": [
    "ic(train)"
   ]
  },
  {
   "cell_type": "code",
   "execution_count": 119,
   "metadata": {},
   "outputs": [
    {
     "name": "stdout",
     "output_type": "stream",
     "text": [
      "11.0\n"
     ]
    }
   ],
   "source": [
    "q1=train['DurationOfPitch'].quantile(0.25)\n",
    "q2=train['DurationOfPitch'].quantile(0.5)\n",
    "q3=train['DurationOfPitch'].quantile(0.75)\n",
    "iqr=q3-q1\n",
    "print(iqr)"
   ]
  },
  {
   "cell_type": "code",
   "execution_count": 120,
   "metadata": {},
   "outputs": [
    {
     "name": "stderr",
     "output_type": "stream",
     "text": [
      "ic| train[condition]: Empty DataFrame\n",
      "                      Columns: [Age, TypeofContact, CityTier, DurationOfPitch, Occupation, Gender, ProductPitched, PreferredPropertyStar, MaritalStatus, Passport, PitchSatisfactionScore, Designation, ProdTaken]\n",
      "                      Index: []\n",
      "ic| train[condition2]: Empty DataFrame\n",
      "                       Columns: [Age, TypeofContact, CityTier, DurationOfPitch, Occupation, Gender, ProductPitched, PreferredPropertyStar, MaritalStatus, Passport, PitchSatisfactionScore, Designation, ProdTaken]\n",
      "                       Index: []\n"
     ]
    },
    {
     "data": {
      "text/html": [
       "<div>\n",
       "<style scoped>\n",
       "    .dataframe tbody tr th:only-of-type {\n",
       "        vertical-align: middle;\n",
       "    }\n",
       "\n",
       "    .dataframe tbody tr th {\n",
       "        vertical-align: top;\n",
       "    }\n",
       "\n",
       "    .dataframe thead th {\n",
       "        text-align: right;\n",
       "    }\n",
       "</style>\n",
       "<table border=\"1\" class=\"dataframe\">\n",
       "  <thead>\n",
       "    <tr style=\"text-align: right;\">\n",
       "      <th></th>\n",
       "      <th>Age</th>\n",
       "      <th>TypeofContact</th>\n",
       "      <th>CityTier</th>\n",
       "      <th>DurationOfPitch</th>\n",
       "      <th>Occupation</th>\n",
       "      <th>Gender</th>\n",
       "      <th>ProductPitched</th>\n",
       "      <th>PreferredPropertyStar</th>\n",
       "      <th>MaritalStatus</th>\n",
       "      <th>Passport</th>\n",
       "      <th>PitchSatisfactionScore</th>\n",
       "      <th>Designation</th>\n",
       "      <th>ProdTaken</th>\n",
       "    </tr>\n",
       "  </thead>\n",
       "  <tbody>\n",
       "  </tbody>\n",
       "</table>\n",
       "</div>"
      ],
      "text/plain": [
       "Empty DataFrame\n",
       "Columns: [Age, TypeofContact, CityTier, DurationOfPitch, Occupation, Gender, ProductPitched, PreferredPropertyStar, MaritalStatus, Passport, PitchSatisfactionScore, Designation, ProdTaken]\n",
       "Index: []"
      ]
     },
     "execution_count": 120,
     "metadata": {},
     "output_type": "execute_result"
    }
   ],
   "source": [
    "condition=train['DurationOfPitch']>q3+1.5*iqr\n",
    "condition2=train['DurationOfPitch']>q3+1.5*iqr\n",
    "ic(train[condition])\n",
    "ic(train[condition2])"
   ]
  },
  {
   "cell_type": "code",
   "execution_count": 121,
   "metadata": {},
   "outputs": [
    {
     "name": "stdout",
     "output_type": "stream",
     "text": [
      "12.0\n"
     ]
    }
   ],
   "source": [
    "aq1=train['Age'].quantile(0.25)\n",
    "aq2=train['Age'].quantile(0.5)\n",
    "aq3=train['Age'].quantile(0.75)\n",
    "iqr2=aq3-aq1\n",
    "print(iqr2)"
   ]
  },
  {
   "cell_type": "code",
   "execution_count": 122,
   "metadata": {},
   "outputs": [
    {
     "name": "stderr",
     "output_type": "stream",
     "text": [
      "ic| train[condition2]: Empty DataFrame\n",
      "                       Columns: [Age, TypeofContact, CityTier, DurationOfPitch, Occupation, Gender, ProductPitched, PreferredPropertyStar, MaritalStatus, Passport, PitchSatisfactionScore, Designation, ProdTaken]\n",
      "                       Index: []\n"
     ]
    },
    {
     "data": {
      "text/html": [
       "<div>\n",
       "<style scoped>\n",
       "    .dataframe tbody tr th:only-of-type {\n",
       "        vertical-align: middle;\n",
       "    }\n",
       "\n",
       "    .dataframe tbody tr th {\n",
       "        vertical-align: top;\n",
       "    }\n",
       "\n",
       "    .dataframe thead th {\n",
       "        text-align: right;\n",
       "    }\n",
       "</style>\n",
       "<table border=\"1\" class=\"dataframe\">\n",
       "  <thead>\n",
       "    <tr style=\"text-align: right;\">\n",
       "      <th></th>\n",
       "      <th>Age</th>\n",
       "      <th>TypeofContact</th>\n",
       "      <th>CityTier</th>\n",
       "      <th>DurationOfPitch</th>\n",
       "      <th>Occupation</th>\n",
       "      <th>Gender</th>\n",
       "      <th>ProductPitched</th>\n",
       "      <th>PreferredPropertyStar</th>\n",
       "      <th>MaritalStatus</th>\n",
       "      <th>Passport</th>\n",
       "      <th>PitchSatisfactionScore</th>\n",
       "      <th>Designation</th>\n",
       "      <th>ProdTaken</th>\n",
       "    </tr>\n",
       "  </thead>\n",
       "  <tbody>\n",
       "  </tbody>\n",
       "</table>\n",
       "</div>"
      ],
      "text/plain": [
       "Empty DataFrame\n",
       "Columns: [Age, TypeofContact, CityTier, DurationOfPitch, Occupation, Gender, ProductPitched, PreferredPropertyStar, MaritalStatus, Passport, PitchSatisfactionScore, Designation, ProdTaken]\n",
       "Index: []"
      ]
     },
     "execution_count": 122,
     "metadata": {},
     "output_type": "execute_result"
    }
   ],
   "source": [
    "condition3=train['Age']>aq3+1.5*iqr2\n",
    "ic(train[condition2])"
   ]
  },
  {
   "cell_type": "code",
   "execution_count": 123,
   "metadata": {
    "pycharm": {
     "name": "#%%\n"
    }
   },
   "outputs": [],
   "source": [
    "# for col, dtype in train.dtypes.items():\n",
    "#     if dtype == 'object':\n",
    "#         # 문자형 칼럼의 경우 'Unknown'을 채워줍니다.\n",
    "#         value = 'Unknown'\n",
    "#         train.loc[:,col] = train[col].fillna(value)\n",
    "#         test.loc[:,col] = test[col].fillna(value)\n",
    "#     elif dtype == int or dtype == float:\n",
    "#         # 수치형 칼럼의 경우 0을 채워줍니다.\n",
    "#         value = 0\n",
    "#         train.loc[:,col] = train[col].fillna(value)\n",
    "#         test.loc[:,col] = test[col].fillna(value)\n",
    "# # print(train.isna().sum())"
   ]
  },
  {
   "cell_type": "code",
   "execution_count": 124,
   "metadata": {
    "pycharm": {
     "name": "#%%\n"
    }
   },
   "outputs": [],
   "source": [
    "# train.dropna(inplace=True)\n",
    "# test.dropna(inplace=True)\n",
    "\n",
    "# # 결과를 확인합니다.\n",
    "# train.isna().sum()\n",
    "# test.isna().sum()"
   ]
  },
  {
   "cell_type": "code",
   "execution_count": 125,
   "metadata": {
    "pycharm": {
     "name": "#%%\n"
    }
   },
   "outputs": [
    {
     "data": {
      "text/plain": [
       "Age                       0\n",
       "TypeofContact             0\n",
       "CityTier                  0\n",
       "DurationOfPitch           0\n",
       "Occupation                0\n",
       "Gender                    0\n",
       "ProductPitched            0\n",
       "PreferredPropertyStar     0\n",
       "MaritalStatus             0\n",
       "Passport                  0\n",
       "PitchSatisfactionScore    0\n",
       "Designation               0\n",
       "dtype: int64"
      ]
     },
     "execution_count": 125,
     "metadata": {},
     "output_type": "execute_result"
    }
   ],
   "source": [
    "# pandas의 fillna 메소드를 활용하여 NAN 값을 채워니다.\n",
    "# 0 으로 채우는 경우\n",
    "train.DurationOfPitch = train.DurationOfPitch.fillna(0)\n",
    "test.DurationOfPitch = test.DurationOfPitch.fillna(0)\n",
    "# train.NumberOfFollowups = train.NumberOfFollowups.fillna(0)\n",
    "# test.NumberOfFollowups = test.NumberOfFollowups.fillna(0)\n",
    "\n",
    "# train.MonthlyIncome = train.MonthlyIncome.fillna(0)\n",
    "# test.MonthlyIncome = test.MonthlyIncome.fillna(0)\n",
    "\n",
    "# mean 값으로 채우는 경우\n",
    "mean_cols = ['Age', 'PreferredPropertyStar']\n",
    "for col in mean_cols:\n",
    "    train[col] = train[col].fillna(train[col].mean())\n",
    "    test[col] = test[col].fillna(train[col].mean())\n",
    "\n",
    "# \"Unknown\"으로 채우는 경우\n",
    "train.TypeofContact = train.TypeofContact.fillna(\"Unknown\")\n",
    "test.TypeofContact = test.TypeofContact.fillna(\"Unknown\")\n",
    "\n",
    "# 결과를 확인합니다.\n",
    "train.isna().sum()\n",
    "test.isna().sum()"
   ]
  },
  {
   "cell_type": "code",
   "execution_count": 126,
   "metadata": {
    "pycharm": {
     "name": "#%%\n"
    }
   },
   "outputs": [],
   "source": [
    "encoder = LabelEncoder()\n",
    "encoder.fit(train['TypeofContact'])\n",
    "encoder.transform(train['TypeofContact'])\n",
    "\n",
    "for col in ob_col:\n",
    "    encoder = LabelEncoder()\n",
    "    encoder.fit(train[col])\n",
    "    train[col] = encoder.transform(train[col])\n",
    "    test[col] = encoder.transform(test[col])\n",
    "# ic(train)\n",
    "# ic(test)"
   ]
  },
  {
   "cell_type": "code",
   "execution_count": 127,
   "metadata": {},
   "outputs": [],
   "source": [
    "# print(train)\n",
    "# print(test)"
   ]
  },
  {
   "cell_type": "code",
   "execution_count": 128,
   "metadata": {
    "pycharm": {
     "name": "#%%\n"
    }
   },
   "outputs": [],
   "source": [
    "from sklearn.preprocessing import MinMaxScaler\n",
    "from sklearn.preprocessing import RobustScaler\n",
    "scaler = RobustScaler()\n",
    "scaler.fit(train[['Age', 'DurationOfPitch', 'PreferredPropertyStar']])\n",
    "\n",
    "# train[['Age', 'DurationOfPitch']] = scaler.transform(train[['Age', 'DurationOfPitch']])\n",
    "# test[['Age', 'DurationOfPitch']] = scaler.transform(test[['Age', 'DurationOfPitch']])\n",
    "\n",
    "train[['Age', 'DurationOfPitch', 'PreferredPropertyStar']] = scaler.transform(train[['Age', 'DurationOfPitch', 'PreferredPropertyStar']])\n",
    "test[['Age', 'DurationOfPitch', 'PreferredPropertyStar']] = scaler.transform(test[['Age', 'DurationOfPitch', 'PreferredPropertyStar']])\n",
    "# ic(train)\n",
    "# test"
   ]
  },
  {
   "cell_type": "code",
   "execution_count": 129,
   "metadata": {
    "pycharm": {
     "name": "#%%\n"
    }
   },
   "outputs": [],
   "source": [
    "x = train.drop(columns=['ProdTaken'])\n",
    "y = train['ProdTaken']\n",
    "\n",
    "# ic(x)\n",
    "# ic(y)"
   ]
  },
  {
   "cell_type": "code",
   "execution_count": 130,
   "metadata": {
    "pycharm": {
     "name": "#%%\n"
    }
   },
   "outputs": [],
   "source": [
    "from sklearn.model_selection import train_test_split\n",
    "x_train,x_val,y_train,y_val = train_test_split(x, y, train_size=0.8, shuffle=True, random_state=42)"
   ]
  },
  {
   "cell_type": "code",
   "execution_count": 131,
   "metadata": {
    "pycharm": {
     "name": "#%%\n"
    }
   },
   "outputs": [
    {
     "name": "stdout",
     "output_type": "stream",
     "text": [
      "정확도 : 0.9028132992327366\n"
     ]
    }
   ],
   "source": [
    "# from sklearn.svm import SVC\n",
    "\n",
    "model = RandomForestClassifier(n_estimators=250, max_depth=15, random_state=42)\n",
    "\n",
    "model.fit(x_train,y_train)\n",
    "val_predict = model.predict(x_val) \n",
    "from sklearn import metrics \n",
    "print('정확도 :', metrics.accuracy_score(y_val, val_predict))"
   ]
  },
  {
   "cell_type": "code",
   "execution_count": 132,
   "metadata": {
    "pycharm": {
     "name": "#%%\n"
    }
   },
   "outputs": [],
   "source": [
    "# model.fit(x,y)\n",
    "# pred = model.predict(test)\n",
    "# print('----------------------예측된 데이터의 상위 10개의 값 확인--------------------\\n')\n",
    "# print(pred[:10])\n",
    "\n",
    "# result = model.score(test, pred)\n",
    "# ic('model.score:', result) \n",
    "\n",
    "# sample_submission['ProdTaken'] = pred\n",
    "# ic(sample_submission.head())\n",
    "# sample_submission.to_csv('submission/submission_sc3.csv',index = False)"
   ]
  }
 ],
 "metadata": {
  "kernelspec": {
   "display_name": "Python 3.8.0 ('readvice')",
   "language": "python",
   "name": "python3"
  },
  "language_info": {
   "codemirror_mode": {
    "name": "ipython",
    "version": 3
   },
   "file_extension": ".py",
   "mimetype": "text/x-python",
   "name": "python",
   "nbconvert_exporter": "python",
   "pygments_lexer": "ipython3",
   "version": "3.8.0"
  },
  "orig_nbformat": 4,
  "vscode": {
   "interpreter": {
    "hash": "f82e657652c1f559b98fb141e76bcce2ec0f3958c3a6000b4409466ee456e5f2"
   }
  }
 },
 "nbformat": 4,
 "nbformat_minor": 2
}
