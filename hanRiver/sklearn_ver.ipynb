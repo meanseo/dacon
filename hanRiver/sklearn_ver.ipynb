{
 "cells": [
  {
   "cell_type": "code",
   "execution_count": 48,
   "metadata": {},
   "outputs": [],
   "source": [
    "import os\n",
    "\n",
    "import numpy as np\n",
    "import pandas as pd\n",
    "\n",
    "import seaborn as sns \n",
    "import matplotlib.pyplot as plt\n",
    "\n",
    "plt.rcParams['figure.figsize']=(10,10)\n",
    "plt.rcParams['font.family']='AppleGothic'\n",
    "\n",
    "import warnings\n",
    "warnings.filterwarnings(action='ignore')"
   ]
  },
  {
   "cell_type": "code",
   "execution_count": 49,
   "metadata": {},
   "outputs": [],
   "source": [
    "def read_csv_by_dir(path, index_col=None):\n",
    "    df_raw = pd.DataFrame()\n",
    "    for files in os.listdir(path):\n",
    "        if files.endswith('.csv'):\n",
    "            df = pd.read_csv('/'.join([path,files]),\n",
    "                            index_col=index_col)\n",
    "        df_raw = pd.concat((df_raw,df),axis=0)\n",
    "    return df_raw"
   ]
  },
  {
   "cell_type": "code",
   "execution_count": 50,
   "metadata": {},
   "outputs": [],
   "source": [
    "path = 'data'\n",
    "_df_rf_raw = read_csv_by_dir('/'.join([path,'rf_data']),\n",
    "                            index_col=0)\n",
    "\n",
    "_df_water_raw = read_csv_by_dir('/'.join([path,'water_data']),\n",
    "                               index_col=0)\n",
    "\n",
    "_submission_raw = pd.read_csv('/'.join([path,'sample_submission.csv']),\n",
    "                             index_col=0)"
   ]
  },
  {
   "cell_type": "code",
   "execution_count": 51,
   "metadata": {},
   "outputs": [],
   "source": [
    "# raw_data 보존하기\n",
    "df_rf=_df_rf_raw.copy()\n",
    "df_rf.name = \"rain_data\"\n",
    "\n",
    "df_water=_df_water_raw.copy()\n",
    "df_water.name = \"water_data\"\n",
    "\n",
    "submission=_submission_raw.copy()\n",
    "submission.name = \"submission\""
   ]
  },
  {
   "cell_type": "code",
   "execution_count": 52,
   "metadata": {},
   "outputs": [],
   "source": [
    "def index_to_datetime(df,format):\n",
    "    df.index = pd.to_datetime(df.index,\n",
    "                              format=format)\n",
    "    return df"
   ]
  },
  {
   "cell_type": "code",
   "execution_count": 53,
   "metadata": {},
   "outputs": [],
   "source": [
    "df_rf=index_to_datetime(df=df_rf,format='%Y-%m-%d %H:%M')\n",
    "df_water=index_to_datetime(df=df_water,format='%Y-%m-%d %H:%M')\n",
    "submission=index_to_datetime(df=submission,format='%Y-%m-%d %H:%M')"
   ]
  },
  {
   "cell_type": "code",
   "execution_count": 54,
   "metadata": {},
   "outputs": [],
   "source": [
    "df_rf.sort_index(inplace=True)\n",
    "df_water.sort_index(inplace=True)\n",
    "submission.sort_index(inplace=True)"
   ]
  },
  {
   "cell_type": "code",
   "execution_count": 55,
   "metadata": {},
   "outputs": [
    {
     "name": "stdout",
     "output_type": "stream",
     "text": [
      "rain_data\n",
      "2012-05-01 00:00:00\n",
      "2022-07-18 23:50:00\n",
      "water_data\n",
      "2012-05-01 00:00:00\n",
      "2022-07-18 23:50:00\n",
      "submission\n",
      "2022-06-01 00:00:00\n",
      "2022-07-18 23:50:00\n"
     ]
    }
   ],
   "source": [
    "# 데이터 시간대 확인하기\n",
    "def check_datetime(df):\n",
    "    print(df.name)\n",
    "    print(df.select_dtypes('datetime64[ns]').head(1).index[0])\n",
    "    print(df.select_dtypes('datetime64[ns]').tail(1).index[0])\n",
    "    return None\n",
    "\n",
    "check_datetime(df_rf)\n",
    "check_datetime(df_water)\n",
    "check_datetime(submission)"
   ]
  },
  {
   "cell_type": "code",
   "execution_count": 56,
   "metadata": {},
   "outputs": [],
   "source": [
    "# data target 분리하기\n",
    "target = df_water.loc[:,submission.columns]\n",
    "data = pd.concat((df_rf,df_water.drop(submission.columns,axis=1)),axis=1)"
   ]
  },
  {
   "cell_type": "code",
   "execution_count": 57,
   "metadata": {},
   "outputs": [],
   "source": [
    "# data와 target 하나 밀어주기 (과거데이터를 사용해야 함으로)\n",
    "_target = target.reset_index(drop=True)\n",
    "_data = data.reset_index(drop=True)\n",
    "\n",
    "_data.index += 1\n",
    "\n",
    "tot=pd.concat((_data,_target),axis=1)\n",
    "tot=tot.sort_index()\n",
    "\n",
    "tot=tot.iloc[1:-1]\n",
    "\n",
    "target = tot.loc[:,submission.columns]\n",
    "data = tot.drop(submission.columns,axis=1)"
   ]
  },
  {
   "cell_type": "code",
   "execution_count": 58,
   "metadata": {},
   "outputs": [],
   "source": [
    "train_target=target.iloc[:-len(submission),:]\n",
    "test_target=target.iloc[-len(submission):,:]\n",
    "\n",
    "train_data=data.iloc[:-len(submission),:]\n",
    "test_data=data.iloc[-len(submission):,:]"
   ]
  },
  {
   "cell_type": "code",
   "execution_count": 59,
   "metadata": {},
   "outputs": [],
   "source": [
    "train_target.fillna(train_target.mean(),inplace=True)\n",
    "test_target.fillna(train_target.mean(),inplace=True)\n",
    "train_data.fillna(train_data.mean(),inplace=True)\n",
    "test_data.fillna(train_data.mean(),inplace=True)"
   ]
  },
  {
   "cell_type": "code",
   "execution_count": 60,
   "metadata": {},
   "outputs": [],
   "source": [
    "# print(train_target)\n",
    "# print(train_data)"
   ]
  },
  {
   "cell_type": "code",
   "execution_count": 61,
   "metadata": {},
   "outputs": [],
   "source": [
    "import seaborn as sns\n",
    "from icecream import ic\n",
    "df = pd.concat([train_data, train_target],axis=1)\n",
    "# print(df)\n",
    "df_corr = df.corr()\n",
    "# print(df_corr)\n",
    "# df_corr.fillna(0,inplace=True)\n",
    "# sns.clustermap(df_corr, \n",
    "#                annot = True,      # 실제 값 화면에 나타내기\n",
    "#                cmap = 'RdYlBu_r',  # Red, Yellow, Blue 색상으로 표시\n",
    "#                vmin = -1, vmax = 1, #컬러차트 -1 ~ 1 범위로 표시\n",
    "#               )"
   ]
  },
  {
   "cell_type": "code",
   "execution_count": 62,
   "metadata": {},
   "outputs": [],
   "source": []
  },
  {
   "cell_type": "code",
   "execution_count": 63,
   "metadata": {},
   "outputs": [],
   "source": [
    "# from sklearn.preprocessing import RobustScaler\n",
    "# scaler = RobustScaler()\n",
    "# x_train = scaler.fit_transform(train_data)   # 훈련할 데이터 변환  \n",
    "# # x_test = scaler.transform(x_test)"
   ]
  },
  {
   "cell_type": "code",
   "execution_count": 64,
   "metadata": {},
   "outputs": [
    {
     "name": "stdout",
     "output_type": "stream",
     "text": [
      "        rf_10184100  rf_10184110  rf_10184140     swl     inf     sfw   ecpc  \\\n",
      "1               0.0          0.0          0.0  24.800  555.00  219.07  24.93   \n",
      "2               0.0          0.0          0.0  24.794  464.60  218.86  25.15   \n",
      "3               0.0          0.0          0.0  24.789  478.10  218.69  25.31   \n",
      "4               0.0          0.0          0.0  24.789  464.80  218.69  25.31   \n",
      "5               0.0          0.0          0.0  24.789  478.10  218.69  25.31   \n",
      "...             ...          ...          ...     ...     ...     ...    ...   \n",
      "269419          0.0          0.0          0.0  25.180  140.89  217.99  26.01   \n",
      "269420          0.0          0.0          0.0  25.180  140.94  217.99  26.01   \n",
      "269421          0.0          0.0          0.0  25.180  141.07  217.99  26.01   \n",
      "269422          0.0          0.0          0.0  25.180  141.01  217.99  26.01   \n",
      "269423          0.0          0.0          0.0  25.190  755.75  218.36  25.64   \n",
      "\n",
      "        tototf  tide_level  fw_1018662  fw_1018680  fw_1018683  fw_1019630  \n",
      "1       555.00       445.0      469.05         0.0      729.80      540.18  \n",
      "2       562.90       449.0      498.00         0.0      731.48      540.18  \n",
      "3       576.40       451.0      490.68         0.0      726.42      540.18  \n",
      "4       563.10       452.0      476.21         0.0      726.42      552.17  \n",
      "5       576.40       450.0      476.21         0.0      707.17      564.29  \n",
      "...        ...         ...         ...         ...         ...         ...  \n",
      "269419  140.89       232.0      314.01         0.0      597.98      471.08  \n",
      "269420  140.94       220.0      285.72         0.0      575.57      493.58  \n",
      "269421  141.07       208.0      274.78         0.0      501.04      505.03  \n",
      "269422  141.01       196.0      269.40         0.0      425.89      505.03  \n",
      "269423  140.75       184.0      264.07         0.0      198.19      493.58  \n",
      "\n",
      "[269423 rows x 13 columns]\n"
     ]
    }
   ],
   "source": [
    "print(train_data)"
   ]
  },
  {
   "cell_type": "code",
   "execution_count": 65,
   "metadata": {},
   "outputs": [
    {
     "name": "stdout",
     "output_type": "stream",
     "text": [
      "--data--\n",
      "(269423, 13)\n",
      "(6912, 13)\n",
      "--target--\n",
      "(269423, 4)\n",
      "(6912, 4)\n"
     ]
    }
   ],
   "source": [
    "print('--data--')\n",
    "print(train_data.shape)\n",
    "print(test_data.shape)\n",
    "print('--target--')\n",
    "print(train_target.shape)\n",
    "print(test_target.shape)"
   ]
  },
  {
   "cell_type": "code",
   "execution_count": 66,
   "metadata": {},
   "outputs": [],
   "source": [
    "# from sklearn.model_selection import KFold\n",
    "# kfold = KFold(n_splits=2, shuffle=True)\n",
    "\n",
    "# from sklearn.ensemble import RandomForestRegressor\n",
    "# rf = RandomForestRegressor(n_jobs=-1)\n",
    "\n",
    "# params = {\n",
    "#     \"n_estimators\" : (100, 150, 200, 400)\n",
    "# }\n",
    "\n",
    "# from sklearn.model_selection import train_test_split\n",
    "# x_train,x_val,y_train,y_val = train_test_split(train_data, train_target, train_size=0.7, random_state=42)"
   ]
  },
  {
   "cell_type": "code",
   "execution_count": 67,
   "metadata": {},
   "outputs": [],
   "source": [
    "# from sklearn.model_selection import GridSearchCV\n",
    "# grid_cv = GridSearchCV(rf,\n",
    "#                        param_grid=params,\n",
    "#                        cv = kfold,\n",
    "#                        n_jobs=-1)"
   ]
  },
  {
   "cell_type": "code",
   "execution_count": 68,
   "metadata": {},
   "outputs": [],
   "source": [
    "from sklearn.ensemble import RandomForestRegressor\n",
    "from sklearn.model_selection import train_test_split\n",
    "\n",
    "model = RandomForestRegressor(n_estimators = 400, n_jobs=-1)\n",
    "x_train,x_val,y_train,y_val = train_test_split(train_data, train_target, train_size=0.7, random_state=42)"
   ]
  },
  {
   "cell_type": "code",
   "execution_count": 69,
   "metadata": {},
   "outputs": [],
   "source": [
    "# grid_cv.fit(x_train,y_train)"
   ]
  },
  {
   "cell_type": "code",
   "execution_count": 70,
   "metadata": {},
   "outputs": [],
   "source": [
    "# grid_cv.best_estimator_"
   ]
  },
  {
   "cell_type": "code",
   "execution_count": 71,
   "metadata": {},
   "outputs": [
    {
     "name": "stdout",
     "output_type": "stream",
     "text": [
      "0.9979091642008775\n",
      "2.969959346149889\n"
     ]
    }
   ],
   "source": [
    "from sklearn.metrics import r2_score\n",
    "# model = grid_cv.best_estimator_\n",
    "model.fit(x_train, y_train)\n",
    "y_pred = model.predict(x_val)\n",
    "# print(y_val)\n",
    "# print(y_pred)\n",
    "print(r2_score(y_val, y_pred))\n",
    "from sklearn.metrics import mean_squared_error\n",
    "\n",
    "RMSE = mean_squared_error(y_val, y_pred)**0.5\n",
    "print(RMSE)"
   ]
  },
  {
   "cell_type": "code",
   "execution_count": 72,
   "metadata": {},
   "outputs": [],
   "source": [
    "# model = grid_cv.best_estimator_\n",
    "# model.fit(train_data,train_target)\n",
    "# y_pred = model.predict(test_data)\n",
    "# _submission_raw.iloc[:,:] = y_pred\n",
    "# _submission_raw.to_csv('data/submission.csv')"
   ]
  }
 ],
 "metadata": {
  "kernelspec": {
   "display_name": "Python 3.8.0 ('readvice')",
   "language": "python",
   "name": "python3"
  },
  "language_info": {
   "codemirror_mode": {
    "name": "ipython",
    "version": 3
   },
   "file_extension": ".py",
   "mimetype": "text/x-python",
   "name": "python",
   "nbconvert_exporter": "python",
   "pygments_lexer": "ipython3",
   "version": "3.8.0"
  },
  "orig_nbformat": 4,
  "vscode": {
   "interpreter": {
    "hash": "f82e657652c1f559b98fb141e76bcce2ec0f3958c3a6000b4409466ee456e5f2"
   }
  }
 },
 "nbformat": 4,
 "nbformat_minor": 2
}
